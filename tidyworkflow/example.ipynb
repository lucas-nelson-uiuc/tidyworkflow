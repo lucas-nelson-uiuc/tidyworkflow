{
 "cells": [
  {
   "cell_type": "code",
   "execution_count": 1,
   "metadata": {},
   "outputs": [],
   "source": [
    "from decorators import tidyworkflow, tidyignore"
   ]
  },
  {
   "cell_type": "code",
   "execution_count": 5,
   "metadata": {},
   "outputs": [
    {
     "name": "stderr",
     "output_type": "stream",
     "text": [
      "\u001b[32m2024-04-14 12:26:12.020\u001b[0m | \u001b[1mINFO    \u001b[0m | \u001b[36mdecorators\u001b[0m:\u001b[36mwrapper\u001b[0m:\u001b[36m45\u001b[0m - \u001b[1m#> (normalize_string_format) Normalizes a string using the following steps:\u001b[0m\n",
      "\u001b[32m2024-04-14 12:26:12.021\u001b[0m | \u001b[1mINFO    \u001b[0m | \u001b[36mdecorators\u001b[0m:\u001b[36mwrapper\u001b[0m:\u001b[36m63\u001b[0m - \u001b[1m#>\t(01) Select/filter raw data to get working version of dataset\u001b[0m\n",
      "\u001b[32m2024-04-14 12:26:12.022\u001b[0m | \u001b[1mINFO    \u001b[0m | \u001b[36mdecorators\u001b[0m:\u001b[36mwrapper\u001b[0m:\u001b[36m63\u001b[0m - \u001b[1m#>\t(02) Replace vowels with specific character (default '@')\u001b[0m\n",
      "\u001b[32m2024-04-14 12:26:12.023\u001b[0m | \u001b[1mINFO    \u001b[0m | \u001b[36mdecorators\u001b[0m:\u001b[36mwrapper\u001b[0m:\u001b[36m63\u001b[0m - \u001b[1m#>\t(03) Convert case using string method (default \"lower\")\u001b[0m\n"
     ]
    },
    {
     "data": {
      "text/plain": [
       "'@x@mpl@ str@ng'"
      ]
     },
     "execution_count": 5,
     "metadata": {},
     "output_type": "execute_result"
    }
   ],
   "source": [
    "@tidyworkflow(\n",
    "    message=\"Normalizes a string using the following steps:\",\n",
    "    validators=[lambda x: isinstance(x, str)]\n",
    ")\n",
    "def normalize_string_format(string, **kwargs):\n",
    "    def remove_whitespace(string, **kwargs):\n",
    "        '''Select/filter raw data to get working version of dataset'''\n",
    "        return string.strip()\n",
    "\n",
    "    def replace_vowels(string, **kwargs):\n",
    "        '''Replace vowels with specific character (default '@')'''\n",
    "        import re\n",
    "        replacement = kwargs.get('replacement', '@')\n",
    "        return re.sub('[aeiou]', repl=replacement, string=string, flags=re.IGNORECASE)\n",
    "\n",
    "    def convert_to_case(string, **kwargs):\n",
    "        '''Convert case using string method (default \"lower\")'''\n",
    "        case_func = kwargs.get('case', 'lower')\n",
    "        return getattr(str, case_func)(string)\n",
    "\n",
    "    return locals()\n",
    "\n",
    "# normalize_string_format(string='EXamPle String')\n",
    "# normalize_string_format(string='EXamPle String', case='lower')\n",
    "# normalize_string_format(string='EXamPle String', case='lower', replacement='@')"
   ]
  }
 ],
 "metadata": {
  "kernelspec": {
   "display_name": "Python 3",
   "language": "python",
   "name": "python3"
  },
  "language_info": {
   "codemirror_mode": {
    "name": "ipython",
    "version": 3
   },
   "file_extension": ".py",
   "mimetype": "text/x-python",
   "name": "python",
   "nbconvert_exporter": "python",
   "pygments_lexer": "ipython3",
   "version": "3.10.7"
  }
 },
 "nbformat": 4,
 "nbformat_minor": 2
}
